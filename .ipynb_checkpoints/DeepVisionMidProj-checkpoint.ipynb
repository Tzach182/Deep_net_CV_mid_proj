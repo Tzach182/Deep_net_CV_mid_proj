{
 "cells": [
  {
   "cell_type": "code",
   "execution_count": null,
   "metadata": {
    "id": "zmu3rgtkuMJq"
   },
   "outputs": [],
   "source": [
    "# imports\n",
    "import cv2\n",
    "import os\n",
    "import numpy as np\n",
    "from IPython.display import display, Javascript, Image\n",
    "from google.colab.output import eval_js\n",
    "from base64 import b64decode, b64encode\n",
    "import PIL\n",
    "import io\n",
    "import html\n",
    "import time\n",
    "import torchvision.datasets as dset\n",
    "import torchvision.transforms as transforms\n",
    "from torchvision.transforms.functional  import InterpolationMode\n",
    "import torchvision\n",
    "import torch\n",
    "import torch\n",
    "import torch.nn as nn\n",
    "from torchsummary import summary\n",
    "from statistics import mean\n",
    "import PIL\n",
    "import matplotlib.pyplot as plt\n",
    "import numpy as np\n",
    "\n",
    "\n"
   ]
  },
  {
   "cell_type": "markdown",
   "metadata": {
    "id": "1L89j9YfrdSU"
   },
   "source": [
    "# fill in details:\n",
    "\n",
    "Student ID: \n",
    "\n",
    "Student first name:\n",
    "\n",
    "Student last name:"
   ]
  },
  {
   "cell_type": "markdown",
   "metadata": {
    "id": "O7rXa__er3fP"
   },
   "source": [
    "**Project Scope**:\n",
    "Build a CNN classifier from scratch, on your own data that works on your live stream.\n",
    "\n",
    "1. Acquire dataset (Train and Validation):\n",
    "\n",
    "   Grab frames from your camera for 3 classes (your own selection).\n",
    "   The amount of data to collect, is decided by you to reach good live performance.\n",
    "2. Define pytorch dataset and data loader:\n",
    "Define train and validation datasets and dataloader using **dset.ImageFolder(...)** with proper transforms. Also plot a few training and validation batches. \n",
    "\n",
    "3. Define your CNN network (**must use pytorch, and build your own network**)\n",
    "4. Train your network:\n",
    "\n",
    "   Train the network, print training accuracy and loss per epoch, and also for the validation. **Save the best model to disk, and download it**.\n",
    "   Plot a few validation batches, with their labels and their predictions.\n",
    "\n",
    "5. Live model inference:\n",
    "Connect to your laptop camera, grab frame by frame, and plot on the image the classification of the frame. If you did everything right, your model should work quite well.\n",
    "\n",
    "**items to submit for this assignment**:\n",
    "1. Students that will demonstrate their project on live stream (and it really works..) until the deadline, will not have to submit any item\n",
    "2. Otherwise submit the following:\n",
    "   - This notebook, filled with all the **#place your code here** areas\n",
    "   - your model saved for inference\n",
    "   - 3 batches on the validation, with labels and predictions\n",
    "   - 3 Minutes video file, demonstrating the student performing the 3 classes, with the model classification per frame plotted in the video\n"
   ]
  },
  {
   "cell_type": "markdown",
   "metadata": {
    "id": "J4_Ukzyqr5H7"
   },
   "source": [
    "#Data set collection#"
   ]
  },
  {
   "cell_type": "code",
   "execution_count": null,
   "metadata": {
    "colab": {
     "base_uri": "https://localhost:8080/"
    },
    "id": "qMmG8iEltrcK",
    "outputId": "7dc7d88d-948d-4043-c612-b1f481986c78"
   },
   "outputs": [
    {
     "data": {
      "text/plain": [
       "[None, None, None]"
      ]
     },
     "execution_count": 2,
     "metadata": {},
     "output_type": "execute_result"
    }
   ],
   "source": [
    "# Create Directories\n",
    "dataset_dir = './dataset/'\n",
    "num_classes = 3\n",
    "\n",
    "# Place your code here (1): describe your classes\n",
    "text_for_classes = ['one','two','nothing']\n",
    "\n",
    "num_of_images_to_save = 50\n",
    "\n",
    "os.mkdir(dataset_dir)\n",
    "os.mkdir(dataset_dir + 'train')\n",
    "os.mkdir(dataset_dir + 'test')\n",
    "\n",
    "# Create directories\n",
    "[os.mkdir(dataset_dir + 'train/' + str(i)) for i in range(num_classes)]\n",
    "[os.mkdir(dataset_dir + 'test/' + str(i)) for i in range(num_classes)]\n"
   ]
  },
  {
   "cell_type": "code",
   "execution_count": null,
   "metadata": {
    "id": "-YP-1ZNhpJiF"
   },
   "outputs": [],
   "source": [
    "# Place your code here (2): define your own video width and height\n",
    "width = 160\n",
    "height = 120\n",
    "\n",
    "# functions for capturing webcam  \n",
    "# function to convert the JavaScript object into an OpenCV image\n",
    "def js_to_image(js_reply):\n",
    "  \"\"\"\n",
    "  Params:\n",
    "          js_reply: JavaScript object containing image from webcam\n",
    "  Returns:\n",
    "          img: OpenCV BGR image\n",
    "  \"\"\"\n",
    "  # decode base64 image\n",
    "  image_bytes = b64decode(js_reply.split(',')[1])\n",
    "  # convert bytes to numpy array\n",
    "  jpg_as_np = np.frombuffer(image_bytes, dtype=np.uint8)\n",
    "  # decode numpy array into OpenCV BGR image\n",
    "  img = cv2.imdecode(jpg_as_np, flags=1)\n",
    "\n",
    "  return img\n",
    "\n",
    "# function to convert OpenCV Rectangle bounding box image into base64 byte string to be overlayed on video stream\n",
    "def bbox_to_bytes(bbox_array):\n",
    "  \"\"\"\n",
    "  Params:\n",
    "          bbox_array: Numpy array (pixels) containing rectangle to overlay on video stream.\n",
    "  Returns:\n",
    "        bytes: Base64 image byte string\n",
    "  \"\"\"\n",
    "  # convert array into PIL image\n",
    "  bbox_PIL = PIL.Image.fromarray(bbox_array, 'RGBA')\n",
    "  iobuf = io.BytesIO()\n",
    "  # format bbox into png for return\n",
    "  bbox_PIL.save(iobuf, format='png')\n",
    "  # format return string\n",
    "  bbox_bytes = 'data:image/png;base64,{}'.format((str(b64encode(iobuf.getvalue()), 'utf-8')))\n",
    "\n",
    "  return bbox_bytes\n",
    "\n",
    "\n",
    "def video_stream():\n",
    "  js = Javascript('''\n",
    "    var video;\n",
    "    var div = null;\n",
    "    var stream;\n",
    "    var captureCanvas;\n",
    "    var imgElement;\n",
    "    var labelElement;\n",
    "    \n",
    "    var pendingResolve = null;\n",
    "    var shutdown = false;\n",
    "    \n",
    "    function removeDom() {\n",
    "       stream.getVideoTracks()[0].stop();\n",
    "       video.remove();\n",
    "       div.remove();\n",
    "       video = null;\n",
    "       div = null;\n",
    "       stream = null;\n",
    "       imgElement = null;\n",
    "       captureCanvas = null;\n",
    "       labelElement = null;\n",
    "    }\n",
    "    \n",
    "    function onAnimationFrame(width, height) {\n",
    "      if (!shutdown) {\n",
    "         window.requestAnimationFrame(function() {\n",
    "            onAnimationFrame(width, height);\n",
    "    }); \n",
    "      }\n",
    "      if (pendingResolve) {\n",
    "        var result = \"\";\n",
    "        if (!shutdown) {\n",
    "          captureCanvas.getContext('2d').drawImage(video, 0, 0, width, height);\n",
    "          result = captureCanvas.toDataURL('image/jpeg', 0.8)\n",
    "        }\n",
    "        var lp = pendingResolve;\n",
    "        pendingResolve = null;\n",
    "        lp(result);\n",
    "      }\n",
    "    }\n",
    "    \n",
    "    async function createDom(width, height) {\n",
    "      if (div !== null) {\n",
    "        return stream;\n",
    "      }\n",
    "\n",
    "      div = document.createElement('div');\n",
    "      div.style.border = '2px solid black';\n",
    "      div.style.padding = '3px';\n",
    "      div.style.width = '100%';\n",
    "      div.style.maxWidth = '600px';\n",
    "      document.body.appendChild(div);\n",
    "      \n",
    "      const modelOut = document.createElement('div');\n",
    "      modelOut.innerHTML = \"Status:\";\n",
    "      labelElement = document.createElement('span');\n",
    "      labelElement.innerText = 'No data';\n",
    "      labelElement.style.fontWeight = 'bold';\n",
    "      modelOut.appendChild(labelElement);\n",
    "      div.appendChild(modelOut);\n",
    "           \n",
    "      video = document.createElement('video');\n",
    "      video.style.display = 'block';\n",
    "      video.width = div.clientWidth - 6;\n",
    "      video.setAttribute('playsinline', '');\n",
    "      video.onclick = () => { shutdown = true; };\n",
    "      stream = await navigator.mediaDevices.getUserMedia(\n",
    "          {video: { facingMode: \"environment\"}});\n",
    "      div.appendChild(video);\n",
    "\n",
    "      imgElement = document.createElement('img');\n",
    "      imgElement.style.position = 'absolute';\n",
    "      imgElement.style.zIndex = 1;\n",
    "      imgElement.onclick = () => { shutdown = true; };\n",
    "      div.appendChild(imgElement);\n",
    "      \n",
    "      const instruction = document.createElement('div');\n",
    "      instruction.innerHTML = \n",
    "          '' +\n",
    "          'When finished, click here or on the video to stop this demo';\n",
    "      div.appendChild(instruction);\n",
    "      instruction.onclick = () => { shutdown = true; };\n",
    "      \n",
    "      video.srcObject = stream;\n",
    "      await video.play();\n",
    "\n",
    "      captureCanvas = document.createElement('canvas');\n",
    "      captureCanvas.width = width; //video.videoWidth;\n",
    "      captureCanvas.height = height; //video.videoHeight;\n",
    "      window.requestAnimationFrame(function() {\n",
    "      onAnimationFrame(width, height);\n",
    "    });\n",
    "      return stream;\n",
    "    }\n",
    "\n",
    " async function stop_sream() {\n",
    "        shutdown = true;\n",
    "        removeDom();\n",
    "        \n",
    "        return '';\n",
    " }\n",
    "\n",
    "    async function stream_frame(label, imgData, width, height) {\n",
    "      if (shutdown) {\n",
    "        removeDom();\n",
    "        shutdown = false;\n",
    "        return '';\n",
    "      }\n",
    "\n",
    "      var preCreate = Date.now();\n",
    "      stream = await createDom(width, height);\n",
    "      \n",
    "      var preShow = Date.now();\n",
    "      if (label != \"\") {\n",
    "        labelElement.innerHTML = label;\n",
    "      }\n",
    "            \n",
    "      if (imgData != \"\") {\n",
    "        var videoRect = video.getClientRects()[0];\n",
    "        imgElement.style.top = videoRect.top + \"px\";\n",
    "        imgElement.style.left = videoRect.left + \"px\";\n",
    "        imgElement.style.width = videoRect.width + \"px\";\n",
    "        imgElement.style.height = videoRect.height + \"px\";\n",
    "        imgElement.src = imgData;\n",
    "      }\n",
    "      \n",
    "      var preCapture = Date.now();\n",
    "      var result = await new Promise(function(resolve, reject) {\n",
    "        pendingResolve = resolve;\n",
    "      });\n",
    "      shutdown = false;\n",
    "      \n",
    "      return {'create': preShow - preCreate, \n",
    "              'show': preCapture - preShow, \n",
    "              'capture': Date.now() - preCapture,\n",
    "              'img': result};\n",
    "    }\n",
    "    ''')\n",
    "\n",
    "  display(js)\n",
    "  \n",
    "def video_frame(label, bbox, width, videoHeight):\n",
    "  data = eval_js('stream_frame(\"{}\", \"{}\", \"{}\", \"{}\")'.format(label, bbox, width, height))\n",
    "  return data\n",
    "\n",
    "def video_stream_stop():\n",
    "  eval_js('stop_sream(\"{}\")')\n"
   ]
  },
  {
   "cell_type": "code",
   "execution_count": null,
   "metadata": {
    "id": "UNdIPt55s1pb"
   },
   "outputs": [],
   "source": [
    "from datetime import datetime\n",
    "def grab_dataset(save_path):\n",
    "    for i in range(num_classes):\n",
    "      input('Press Enter to capture class ' + text_for_classes[i] + '...')\n",
    "      # start streaming video from webcam\n",
    "      frame_num = 0\n",
    "      saved_frames = 0\n",
    "      video_stream()\n",
    "      # label for video\n",
    "      label_html = 'Capturing...'\n",
    "      # initialze bounding box to empty\n",
    "      bbox = ''\n",
    "      count = 0 \n",
    "      file_names = []\n",
    "      frames = []  \n",
    "      while True:\n",
    "          frame_num = frame_num + 1\n",
    "          js_reply = video_frame(label_html, bbox, width, height)\n",
    "          if not js_reply:\n",
    "              break\n",
    "\n",
    "          # convert JS response to OpenCV Image\n",
    "          frame = js_to_image(js_reply[\"img\"])\n",
    "\n",
    "          # Save Frames\n",
    "          label_html = 'Saving...' + str(saved_frames)\n",
    "          file_name = save_path + str(i) + '/' + datetime.now().strftime(\"%m_%d_%Y_%H_%M_%S_\") + str(frame_num) + '.jpg'\n",
    "          file_names.append(file_name)\n",
    "          frames.append(frame)\n",
    "            #cv2.imwrite(file_name, frame)\n",
    "          saved_frames = saved_frames + 1\n",
    "\n",
    "          if saved_frames == num_of_images_to_save:\n",
    "            video_stream_stop()\n",
    "            print ('saving to disk...')\n",
    "            for i,f in enumerate(file_names):\n",
    "              cv2.imwrite(f, frames[i])\n",
    "            break\n",
    " \n"
   ]
  },
  {
   "cell_type": "code",
   "execution_count": null,
   "metadata": {
    "id": "oxBXR5iG6LIr"
   },
   "outputs": [],
   "source": [
    "# grab your dataset --> this should be an ongoing process, till you get good performance\n",
    "\n",
    "grab_dataset(dataset_dir + '/train/')\n",
    "grab_dataset(dataset_dir + '/test/')"
   ]
  },
  {
   "cell_type": "code",
   "execution_count": null,
   "metadata": {
    "id": "NeajBm-s6HSb"
   },
   "outputs": [],
   "source": [
    "# download dataset (so can merge with the dataset you already collected, and later upload it to colab)\n",
    "from google.colab import files\n",
    "!zip -r ./ds.zip ./dataset/\n",
    "files.download('./ds.zip')"
   ]
  },
  {
   "cell_type": "code",
   "execution_count": null,
   "metadata": {
    "colab": {
     "base_uri": "https://localhost:8080/",
     "height": 73
    },
    "id": "fFhDeMTIF6T0",
    "outputId": "c60cb908-bd0b-4a00-cfd6-a4617e119825"
   },
   "outputs": [
    {
     "data": {
      "text/html": [
       "\n",
       "     <input type=\"file\" id=\"files-a3f4a512-f41c-4fef-bb4b-0c36510bf534\" name=\"files[]\" multiple disabled\n",
       "        style=\"border:none\" />\n",
       "     <output id=\"result-a3f4a512-f41c-4fef-bb4b-0c36510bf534\">\n",
       "      Upload widget is only available when the cell has been executed in the\n",
       "      current browser session. Please rerun this cell to enable.\n",
       "      </output>\n",
       "      <script>// Copyright 2017 Google LLC\n",
       "//\n",
       "// Licensed under the Apache License, Version 2.0 (the \"License\");\n",
       "// you may not use this file except in compliance with the License.\n",
       "// You may obtain a copy of the License at\n",
       "//\n",
       "//      http://www.apache.org/licenses/LICENSE-2.0\n",
       "//\n",
       "// Unless required by applicable law or agreed to in writing, software\n",
       "// distributed under the License is distributed on an \"AS IS\" BASIS,\n",
       "// WITHOUT WARRANTIES OR CONDITIONS OF ANY KIND, either express or implied.\n",
       "// See the License for the specific language governing permissions and\n",
       "// limitations under the License.\n",
       "\n",
       "/**\n",
       " * @fileoverview Helpers for google.colab Python module.\n",
       " */\n",
       "(function(scope) {\n",
       "function span(text, styleAttributes = {}) {\n",
       "  const element = document.createElement('span');\n",
       "  element.textContent = text;\n",
       "  for (const key of Object.keys(styleAttributes)) {\n",
       "    element.style[key] = styleAttributes[key];\n",
       "  }\n",
       "  return element;\n",
       "}\n",
       "\n",
       "// Max number of bytes which will be uploaded at a time.\n",
       "const MAX_PAYLOAD_SIZE = 100 * 1024;\n",
       "\n",
       "function _uploadFiles(inputId, outputId) {\n",
       "  const steps = uploadFilesStep(inputId, outputId);\n",
       "  const outputElement = document.getElementById(outputId);\n",
       "  // Cache steps on the outputElement to make it available for the next call\n",
       "  // to uploadFilesContinue from Python.\n",
       "  outputElement.steps = steps;\n",
       "\n",
       "  return _uploadFilesContinue(outputId);\n",
       "}\n",
       "\n",
       "// This is roughly an async generator (not supported in the browser yet),\n",
       "// where there are multiple asynchronous steps and the Python side is going\n",
       "// to poll for completion of each step.\n",
       "// This uses a Promise to block the python side on completion of each step,\n",
       "// then passes the result of the previous step as the input to the next step.\n",
       "function _uploadFilesContinue(outputId) {\n",
       "  const outputElement = document.getElementById(outputId);\n",
       "  const steps = outputElement.steps;\n",
       "\n",
       "  const next = steps.next(outputElement.lastPromiseValue);\n",
       "  return Promise.resolve(next.value.promise).then((value) => {\n",
       "    // Cache the last promise value to make it available to the next\n",
       "    // step of the generator.\n",
       "    outputElement.lastPromiseValue = value;\n",
       "    return next.value.response;\n",
       "  });\n",
       "}\n",
       "\n",
       "/**\n",
       " * Generator function which is called between each async step of the upload\n",
       " * process.\n",
       " * @param {string} inputId Element ID of the input file picker element.\n",
       " * @param {string} outputId Element ID of the output display.\n",
       " * @return {!Iterable<!Object>} Iterable of next steps.\n",
       " */\n",
       "function* uploadFilesStep(inputId, outputId) {\n",
       "  const inputElement = document.getElementById(inputId);\n",
       "  inputElement.disabled = false;\n",
       "\n",
       "  const outputElement = document.getElementById(outputId);\n",
       "  outputElement.innerHTML = '';\n",
       "\n",
       "  const pickedPromise = new Promise((resolve) => {\n",
       "    inputElement.addEventListener('change', (e) => {\n",
       "      resolve(e.target.files);\n",
       "    });\n",
       "  });\n",
       "\n",
       "  const cancel = document.createElement('button');\n",
       "  inputElement.parentElement.appendChild(cancel);\n",
       "  cancel.textContent = 'Cancel upload';\n",
       "  const cancelPromise = new Promise((resolve) => {\n",
       "    cancel.onclick = () => {\n",
       "      resolve(null);\n",
       "    };\n",
       "  });\n",
       "\n",
       "  // Wait for the user to pick the files.\n",
       "  const files = yield {\n",
       "    promise: Promise.race([pickedPromise, cancelPromise]),\n",
       "    response: {\n",
       "      action: 'starting',\n",
       "    }\n",
       "  };\n",
       "\n",
       "  cancel.remove();\n",
       "\n",
       "  // Disable the input element since further picks are not allowed.\n",
       "  inputElement.disabled = true;\n",
       "\n",
       "  if (!files) {\n",
       "    return {\n",
       "      response: {\n",
       "        action: 'complete',\n",
       "      }\n",
       "    };\n",
       "  }\n",
       "\n",
       "  for (const file of files) {\n",
       "    const li = document.createElement('li');\n",
       "    li.append(span(file.name, {fontWeight: 'bold'}));\n",
       "    li.append(span(\n",
       "        `(${file.type || 'n/a'}) - ${file.size} bytes, ` +\n",
       "        `last modified: ${\n",
       "            file.lastModifiedDate ? file.lastModifiedDate.toLocaleDateString() :\n",
       "                                    'n/a'} - `));\n",
       "    const percent = span('0% done');\n",
       "    li.appendChild(percent);\n",
       "\n",
       "    outputElement.appendChild(li);\n",
       "\n",
       "    const fileDataPromise = new Promise((resolve) => {\n",
       "      const reader = new FileReader();\n",
       "      reader.onload = (e) => {\n",
       "        resolve(e.target.result);\n",
       "      };\n",
       "      reader.readAsArrayBuffer(file);\n",
       "    });\n",
       "    // Wait for the data to be ready.\n",
       "    let fileData = yield {\n",
       "      promise: fileDataPromise,\n",
       "      response: {\n",
       "        action: 'continue',\n",
       "      }\n",
       "    };\n",
       "\n",
       "    // Use a chunked sending to avoid message size limits. See b/62115660.\n",
       "    let position = 0;\n",
       "    do {\n",
       "      const length = Math.min(fileData.byteLength - position, MAX_PAYLOAD_SIZE);\n",
       "      const chunk = new Uint8Array(fileData, position, length);\n",
       "      position += length;\n",
       "\n",
       "      const base64 = btoa(String.fromCharCode.apply(null, chunk));\n",
       "      yield {\n",
       "        response: {\n",
       "          action: 'append',\n",
       "          file: file.name,\n",
       "          data: base64,\n",
       "        },\n",
       "      };\n",
       "\n",
       "      let percentDone = fileData.byteLength === 0 ?\n",
       "          100 :\n",
       "          Math.round((position / fileData.byteLength) * 100);\n",
       "      percent.textContent = `${percentDone}% done`;\n",
       "\n",
       "    } while (position < fileData.byteLength);\n",
       "  }\n",
       "\n",
       "  // All done.\n",
       "  yield {\n",
       "    response: {\n",
       "      action: 'complete',\n",
       "    }\n",
       "  };\n",
       "}\n",
       "\n",
       "scope.google = scope.google || {};\n",
       "scope.google.colab = scope.google.colab || {};\n",
       "scope.google.colab._files = {\n",
       "  _uploadFiles,\n",
       "  _uploadFilesContinue,\n",
       "};\n",
       "})(self);\n",
       "</script> "
      ],
      "text/plain": [
       "<IPython.core.display.HTML object>"
      ]
     },
     "metadata": {},
     "output_type": "display_data"
    },
    {
     "name": "stdout",
     "output_type": "stream",
     "text": [
      "Saving dataset.zip to dataset.zip\n"
     ]
    }
   ],
   "source": [
    "# dataset upload (Now you have a dataset and need to upload it for training)\n",
    "\n",
    "# download dataset\n",
    "from google.colab import files\n",
    "\n",
    "files.upload()"
   ]
  },
  {
   "cell_type": "code",
   "execution_count": null,
   "metadata": {
    "id": "Y6invm_D6CvJ"
   },
   "outputs": [],
   "source": [
    "#extract your dataset zip file\n",
    "!unzip /content/dataset.zip"
   ]
  },
  {
   "cell_type": "markdown",
   "metadata": {
    "id": "606ZkIz5D1CF"
   },
   "source": [
    "#Dataset definition#"
   ]
  },
  {
   "cell_type": "code",
   "execution_count": null,
   "metadata": {
    "id": "NOo9cA-OD1ZV"
   },
   "outputs": [],
   "source": [
    "# Place your code here (3):\n",
    "# define:\n",
    "# Batch size\n",
    "# Train and validation transforms using transforms.Compose\n",
    "# Train and validation datasets using dset.ImageFolder\n",
    "# Train and validation dataloaders using torch.utils.data.DataLoader\n",
    "# print the length of your train and validation sets\n",
    "# plot a few training batches with their labels (make sure you can recognize the classes after the transforms , example code below)\n",
    "# plot a few validation batches with their labels \n",
    "# print the shape of a single batch of images, and their min, max, and average pixel value\n"
   ]
  },
  {
   "cell_type": "code",
   "execution_count": null,
   "metadata": {
    "id": "4dwzk-Iw0zhd"
   },
   "outputs": [],
   "source": [
    "\n",
    "## functions to show an image\n",
    "def imshow(img):\n",
    "    #img = img / 2 + 0.5     # unnormalize\n",
    "    npimg = img.numpy()\n",
    "    plt.imshow(np.transpose(npimg, (1, 2, 0)))\n",
    "\n",
    "## get some random training images\n",
    "dataiter = iter(dataloader_train)\n",
    "images, labels = next(dataiter)\n",
    "\n",
    "## show images\n",
    "imshow(torchvision.utils.make_grid(images))"
   ]
  },
  {
   "cell_type": "markdown",
   "metadata": {
    "id": "_c4O1x88DYn5"
   },
   "source": [
    "#Training#"
   ]
  },
  {
   "cell_type": "code",
   "execution_count": null,
   "metadata": {
    "id": "HL4bmD4pDp5F"
   },
   "outputs": [],
   "source": [
    "# Place your code here (4): define your CNN\n",
    "\n",
    "class liveClassifier(nn.Module):\n",
    "  def __init__(self):\n",
    "    super(liveClassifier, self).__init__()\n",
    "    # Place your code here (4.1): define your model\n",
    "\n",
    "\n",
    "  def forward(self, input):\n",
    "    # Place your code here (4.2): define forward pass\n"
   ]
  },
  {
   "cell_type": "code",
   "execution_count": null,
   "metadata": {
    "id": "Sk3Dttgk2Lmf"
   },
   "outputs": [],
   "source": [
    "# Create an instance of your model, and print its summary\n",
    "\n",
    "device = torch.device(\"cuda:0\" if (torch.cuda.is_available()) else \"cpu\")\n",
    "\n",
    "model = liveClassifier().to(device)\n",
    "\n",
    "# Place your code here (5): print summary using summary(model,(aa, bb, bb ))"
   ]
  },
  {
   "cell_type": "code",
   "execution_count": null,
   "metadata": {
    "id": "-Lv-npZyD-V1"
   },
   "outputs": [],
   "source": [
    "# Place your code here (6): Define your loss criterion, and optimizer (e.g criterion = nn.CrossEntropyLoss(), optimizer = optimizer = torch.optim.SGD(model.parameters(), lr=0.002, momentum = 0.9) \n",
    "\n"
   ]
  },
  {
   "cell_type": "code",
   "execution_count": null,
   "metadata": {
    "id": "I-hd_Gdakpfb"
   },
   "outputs": [],
   "source": [
    "\n",
    "# Place your code here (7): train loop\n",
    "\n",
    "num_epochs = 30\n",
    "\n",
    "for epoch in range(num_epochs):\n",
    "\n",
    "  #Place your code here (7.1): Train (don't forget to call model.train())\n",
    "\n",
    "  #Place your code here (7.2): Evaluate (don't forget to call model.eval())\n",
    "   \n",
    "  #Place your code here (7.3): Print Train loss and accuracy, print Eval loss and accuracy\n",
    "\n",
    "  #Place your code here (7.4): If model has improved, save it to disk using torch.save(model.state_dict(), dataset_dir + 'savedmodel')\n",
    "\n",
    "\n",
    "#Place your code here (7.5): print your best model performance (evaluation loss and accuracy) \n",
    "#Place your code here (7.6): plot loss and accuracy curves (Train + evaluation)\n",
    "\n",
    "\n",
    "\n"
   ]
  },
  {
   "cell_type": "code",
   "execution_count": null,
   "metadata": {
    "colab": {
     "base_uri": "https://localhost:8080/",
     "height": 17
    },
    "id": "me4uqjcbameM",
    "outputId": "e8247695-7fa9-4e0b-df3c-619d5d92e175"
   },
   "outputs": [
    {
     "data": {
      "application/javascript": [
       "\n",
       "    async function download(id, filename, size) {\n",
       "      if (!google.colab.kernel.accessAllowed) {\n",
       "        return;\n",
       "      }\n",
       "      const div = document.createElement('div');\n",
       "      const label = document.createElement('label');\n",
       "      label.textContent = `Downloading \"${filename}\": `;\n",
       "      div.appendChild(label);\n",
       "      const progress = document.createElement('progress');\n",
       "      progress.max = size;\n",
       "      div.appendChild(progress);\n",
       "      document.body.appendChild(div);\n",
       "\n",
       "      const buffers = [];\n",
       "      let downloaded = 0;\n",
       "\n",
       "      const channel = await google.colab.kernel.comms.open(id);\n",
       "      // Send a message to notify the kernel that we're ready.\n",
       "      channel.send({})\n",
       "\n",
       "      for await (const message of channel.messages) {\n",
       "        // Send a message to notify the kernel that we're ready.\n",
       "        channel.send({})\n",
       "        if (message.buffers) {\n",
       "          for (const buffer of message.buffers) {\n",
       "            buffers.push(buffer);\n",
       "            downloaded += buffer.byteLength;\n",
       "            progress.value = downloaded;\n",
       "          }\n",
       "        }\n",
       "      }\n",
       "      const blob = new Blob(buffers, {type: 'application/binary'});\n",
       "      const a = document.createElement('a');\n",
       "      a.href = window.URL.createObjectURL(blob);\n",
       "      a.download = filename;\n",
       "      div.appendChild(a);\n",
       "      a.click();\n",
       "      div.remove();\n",
       "    }\n",
       "  "
      ],
      "text/plain": [
       "<IPython.core.display.Javascript object>"
      ]
     },
     "metadata": {},
     "output_type": "display_data"
    },
    {
     "data": {
      "application/javascript": [
       "download(\"download_19fb9557-16fb-4ecf-8dd6-e525236134fc\", \"savedmodel\", 1240299)"
      ],
      "text/plain": [
       "<IPython.core.display.Javascript object>"
      ]
     },
     "metadata": {},
     "output_type": "display_data"
    }
   ],
   "source": [
    "# download model\n",
    "files.download('/content/dataset/savedmodel')"
   ]
  },
  {
   "cell_type": "code",
   "execution_count": null,
   "metadata": {
    "id": "SOv6Qnyia7Ce"
   },
   "outputs": [],
   "source": [
    "# upload model\n",
    "files.upload()"
   ]
  },
  {
   "cell_type": "code",
   "execution_count": null,
   "metadata": {
    "id": "JWYowG0P4d_f"
   },
   "outputs": [],
   "source": [
    "# load model\n",
    "\n",
    "model = liveClassifier()\n",
    "model.load_state_dict(torch.load('/content/dataset/savedmodel'))\n",
    "model.to(device)\n",
    "model.eval()"
   ]
  },
  {
   "cell_type": "markdown",
   "metadata": {
    "id": "VXYTyz2S4lSf"
   },
   "source": [
    "## Inference"
   ]
  },
  {
   "cell_type": "code",
   "execution_count": null,
   "metadata": {
    "id": "kZQaeP0J4p__"
   },
   "outputs": [],
   "source": [
    "# Place your code here (8): Plot few batches with their labels and predictions"
   ]
  },
  {
   "cell_type": "code",
   "execution_count": null,
   "metadata": {
    "id": "vdg_uLyY5BZx"
   },
   "outputs": [],
   "source": [
    "# Place your code here (9): Run live inference, plot classification on the video using bbox_array = cv2.putText(img=bbox_array, text=pred_class_name, org=(x, y), fontFace=cv2.FONT_HERSHEY_TRIPLEX, fontScale=0.6, color=(200, 200, 200, 255),thickness=1)\n",
    "# Also save frames with classification plotted on it to video file (download it for submition)\n",
    "\n",
    "\n",
    "\n"
   ]
  },
  {
   "cell_type": "markdown",
   "metadata": {
    "id": "Yr6kUKvE5z5Z"
   },
   "source": [
    "**I hope you had fun (-:**\n",
    "\n",
    "Good luck!\n",
    "\n",
    "Lahav"
   ]
  }
 ],
 "metadata": {
  "accelerator": "GPU",
  "colab": {
   "provenance": []
  },
  "gpuClass": "standard",
  "kernelspec": {
   "display_name": "Python 3 (ipykernel)",
   "language": "python",
   "name": "python3"
  },
  "language_info": {
   "codemirror_mode": {
    "name": "ipython",
    "version": 3
   },
   "file_extension": ".py",
   "mimetype": "text/x-python",
   "name": "python",
   "nbconvert_exporter": "python",
   "pygments_lexer": "ipython3",
   "version": "3.9.12"
  }
 },
 "nbformat": 4,
 "nbformat_minor": 1
}
